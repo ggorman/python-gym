{
 "cells": [
  {
   "cell_type": "markdown",
   "metadata": {},
   "source": [
    "## Question 1\n",
    "Correct the 5 errors in the following program."
   ]
  },
  {
   "cell_type": "code",
   "execution_count": null,
   "metadata": {},
   "outputs": [],
   "source": [
    "# Part a\n",
    "x=1\n",
    "print \"sin(%g)=%g\" % (x, sin(x))\n",
    "\n",
    "# Part b\n",
    "F = 114\n",
    "print 5/9*(F-32)\n",
    "\n",
    "# Part c\n",
    "interest = \"0.1%\"\n",
    "print \"Growth = %g\" % 42.0*float(interest)\n",
    "\n",
    "# Part d\n",
    "# Table header:\n",
    "#       Survey Name     USGS ID       Contributor    Year    Number of Tracklines   KMS Shot\n",
    "line = \"Beaufort Sea    W-62-77-AR    WesternGeco    1977    69                     4,987\"\n",
    "print \"The year the data was collected was %d\", line[4]\n",
    "\n",
    "# Part e\n",
    "heights = (1.56, 1.67, 1.97, 1.43)\n",
    "heights.append(1.81)\n",
    "print heights"
   ]
  },
  {
   "cell_type": "markdown",
   "metadata": {},
   "source": [
    "## Question 2\n",
    "\n",
    "* Correct the 5 errors in the following program.\n",
    "* In each case add a comment explaining the error and the fix.\n",
    "* To verify your answer remember that $sin ^2( x ) + cos ^2( x ) = 1$."
   ]
  },
  {
   "cell_type": "code",
   "execution_count": null,
   "metadata": {},
   "outputs": [],
   "source": [
    "from math import sin, cos\n",
    "x = pi /4\n",
    "1_val = sin^2( x ) + cos^2( x )\n",
    "print 1_VAL"
   ]
  }
 ],
 "metadata": {
  "kernelspec": {
   "display_name": "Python 3",
   "language": "python",
   "name": "python3"
  },
  "language_info": {
   "codemirror_mode": {
    "name": "ipython",
    "version": 3
   },
   "file_extension": ".py",
   "mimetype": "text/x-python",
   "name": "python",
   "nbconvert_exporter": "python",
   "pygments_lexer": "ipython3",
   "version": "3.6.5"
  }
 },
 "nbformat": 4,
 "nbformat_minor": 2
}
